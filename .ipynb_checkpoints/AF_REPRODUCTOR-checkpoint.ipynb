{
 "cells": [
  {
   "cell_type": "markdown",
   "metadata": {},
   "source": [
    "### VARIABLES GLOBALES"
   ]
  },
  {
   "cell_type": "code",
   "execution_count": 136,
   "metadata": {},
   "outputs": [],
   "source": [
    "import os\n",
    "from IPython.display import clear_output\n",
    "from lxml import etree\n",
    "import webbrowser\n",
    "#variable global\n",
    "\n",
    "playlist = etree.parse('playlists.xml')\n",
    "biblioteca = etree.parse('biblioteca.xml')"
   ]
  },
  {
   "cell_type": "markdown",
   "metadata": {},
   "source": [
    "### BORRAR LA PANTALLA"
   ]
  },
  {
   "cell_type": "code",
   "execution_count": 137,
   "metadata": {},
   "outputs": [],
   "source": [
    "def clear():    \n",
    "    # función que borra la pantalla\n",
    "    \n",
    "    # ... si se ejecuta desde un terminal\n",
    "    os.system('cls' if os.name=='nt' else 'clear')\n",
    "    # ... si se ejecuta desde jupyter\n",
    "    clear_output()"
   ]
  },
  {
   "cell_type": "markdown",
   "metadata": {},
   "source": [
    "### MENU PRINCIPAL"
   ]
  },
  {
   "cell_type": "code",
   "execution_count": 138,
   "metadata": {},
   "outputs": [],
   "source": [
    "def menu():\n",
    "    # función que muestra el menu principal\n",
    "    clear()\n",
    "    print(\"\"\" \n",
    "       Bienvenido a nuestro reproductor Olalla's media player.\n",
    "       aquí podrá, a partir de nuestra biblioteca crear sus propias listas de reproducción\n",
    "       o utilizar una prehecha,\n",
    "       ¿Qué desea hacer?\n",
    "        1. Crear mi propia lista de reproducción\n",
    "        2. Consultar listas existentes\n",
    "        3. Escuchar una canción\n",
    "        4. Salir\n",
    "        \"\"\")"
   ]
  },
  {
   "cell_type": "markdown",
   "metadata": {},
   "source": [
    "### PAUSAR LA ACCIÓN PARA VER LOS RESULTADOS Y PULSAR ENTER PARA CONTINUAR"
   ]
  },
  {
   "cell_type": "code",
   "execution_count": 139,
   "metadata": {},
   "outputs": [],
   "source": [
    "def pause():\n",
    "    #Función que pausa la pantalla para poder ver la información\n",
    "    programPause = input(\"Presiona la tecla <ENTER> key para continuar...\")"
   ]
  },
  {
   "cell_type": "markdown",
   "metadata": {},
   "source": [
    "### METODO PARA MOSTRAR TODAS LAS CANCIONES DE LA BIBLIOTECA: PARA CREAR LISTAS DE REPRODUCCIÓN Y ELEGIR CANCIÓN A REPRODUCIR "
   ]
  },
  {
   "cell_type": "code",
   "execution_count": 140,
   "metadata": {},
   "outputs": [],
   "source": [
    "def mostrarTodasLasCanciones():\n",
    "    #Muestro las canciones disponibles con un xsl\n",
    "    print(\"Lista total de canciones disponibles en nuestra biblioteca\")\n",
    "    bib_xsl = etree.parse('biblioteca.xsl')\n",
    "    transform = etree.XSLT(bib_xsl)\n",
    "    resultadoFinal = transform(biblioteca)\n",
    "    print(str(resultadoFinal))"
   ]
  },
  {
   "cell_type": "markdown",
   "metadata": {},
   "source": [
    "### CREAR LISTA DE REPRODUCCIÓN"
   ]
  },
  {
   "cell_type": "code",
   "execution_count": 141,
   "metadata": {},
   "outputs": [],
   "source": [
    "def crearListaDeReproduccion():\n",
    "    \n",
    "    #Mostramos las canciones disponibles\n",
    "    mostrarTodasLasCanciones()\n",
    "    \n",
    "    #Añadimos los datos al archivo de playlist\n",
    "    nombrePly = input(\"Introduzca el nombre de su playlist\")\n",
    "    playlistAhora = playlist.xpath('/playlists/playlist')\n",
    "    \n",
    "    #Hallamos el id de la playlist lo cual es importante más adelante\n",
    "    idDePlaylistNueva = len(playlistAhora)+1\n",
    "    idPly = \"pl0\"+str(idDePlaylistNueva) \n",
    "    \n",
    "    #Inserto la playlist en el etree en su lugar\n",
    "    root= playlist.getroot()\n",
    "    playlistNueva = etree.Element(\"playlist\")\n",
    "    playlistNueva.attrib[\"id\"]= idPly\n",
    "    playlistNueva.attrib[\"nombre\"]= nombrePly\n",
    "    playlistNueva.attrib[\"modo\"]= \"aleatorio\"\n",
    "    root.append(playlistNueva)\n",
    "    \n",
    "    #Me posiciono en el lugar a insertar las canciones\n",
    "    meterCancion= root[idDePlaylistNueva-1]\n",
    "    \n",
    "    #Meter las canciones en el etree \n",
    "    cancionId = input(\"Introduzca el codigo de las canciones que quiere. pulse return para salir\")\n",
    "    contador=0;\n",
    "    while cancionId != \"\":\n",
    "        meterCancion.append(etree.SubElement(meterCancion, \"cancion\"))\n",
    "        meterCancion[contador].attrib[\"id\"]=cancionId\n",
    "        contador= contador+1\n",
    "        cancionId = input()\n",
    "        \n",
    "    #Grabar el etree en el fichero. Así estará en el etree la próxima vez que carguemos el fichero\n",
    "    outFile2 = open('playlists.xml','w')\n",
    "    ficherito = etree.tostring(playlist, pretty_print=True, xml_declaration=True, encoding=\"utf-8\").decode()\n",
    "    outFile2.write(ficherito)  \n",
    "    outFile2.close()\n"
   ]
  },
  {
   "cell_type": "markdown",
   "metadata": {},
   "source": [
    "### CONSULTAR LISTAS EXISTENTES: MENU OPERAR SOBRE PLAYLIST EXISTENTE"
   ]
  },
  {
   "cell_type": "code",
   "execution_count": 142,
   "metadata": {},
   "outputs": [],
   "source": [
    "def operarSobrePlaylist():\n",
    "    print(\"\"\"\n",
    "        ¿Qué desea hacer?\n",
    "            1.Obtener un listado de autores\n",
    "            2.Obtener un listado de canciones con sus autores y duración\n",
    "            3.Saber cuántas canciones tiene\n",
    "            \"\"\")"
   ]
  },
  {
   "cell_type": "markdown",
   "metadata": {},
   "source": [
    "### CONSULTAR LISTAS EXISTENTES: ELECCION DE PLAYLIST Y MENU OPERAR SOBRE PLAYLIST"
   ]
  },
  {
   "cell_type": "code",
   "execution_count": 143,
   "metadata": {},
   "outputs": [],
   "source": [
    "def consultarListaExistentes():\n",
    "    \n",
    "    #Metemos todas las playlist en un diccionario y lo imprimimos\n",
    "    listas = playlist.xpath('/playlists/playlist')\n",
    "    dicc_plst = {}\n",
    "    numero = 0 \n",
    "    for lista in listas:\n",
    "        numero=numero+1\n",
    "        valor = dicc_plst.setdefault(numero,lista.attrib['nombre'])\n",
    "        print(str(numero)+ \".\"+lista.attrib['nombre'])\n",
    "        \n",
    "    #Elegimos una opcion a hacer    \n",
    "    opcionMenu2 = int(input(\"indique de cuál de ellas desea obtener información \"))\n",
    "    eleccionPlst=dicc_plst.get(opcionMenu2)\n",
    "    \n",
    "    print(eleccionPlst)\n",
    "    operarSobrePlaylist()\n",
    "   \n",
    "    #Creamos el camino para poder sacar todas las canciones de esa playlist con un xpath y poder usarlo\n",
    "    #Pedimos que el usuario elija la opcion\n",
    "    opcion=int(input(\"elija una opción\"))\n",
    "    cadena1 = '/playlists/playlist[@nombre=\"'\n",
    "    cadena2 ='\"]/cancion/@id'\n",
    "    cadenaFinal=cadena1+eleccionPlst+cadena2 \n",
    "    \n",
    "    #Las opciones\n",
    "    if opcion == 1:\n",
    "        obtenerAutores(cadenaFinal) \n",
    "    elif opcion == 2:\n",
    "        obternerInfoAutores(cadenaFinal, eleccionPlst)\n",
    "    elif opcion == 3:\n",
    "        obtenerNumCanciones(cadenaFinal)  \n",
    "    else:\n",
    "        print(\"Opcion incorrecta\")\n",
    "        pause()  \n",
    "        \n"
   ]
  },
  {
   "cell_type": "markdown",
   "metadata": {},
   "source": [
    "### OPCION OBTENER UN LISTADO DE AUTORES DE LA PLAYLIST SELECCIONADA"
   ]
  },
  {
   "cell_type": "code",
   "execution_count": 144,
   "metadata": {},
   "outputs": [],
   "source": [
    "def obtenerAutores(ply):\n",
    "    canciones = playlist.xpath(ply)\n",
    "    listaAutores=[]\n",
    "    for cancion in canciones:\n",
    "        camino = '//album[cancion/@id= \"'+ cancion + '\"]/@artista'\n",
    "        autores = biblioteca.xpath(camino)\n",
    "        listaAutores+= autores\n",
    "    listautoresFinal = set(listaAutores)\n",
    "    print(\"Autores:\")\n",
    "   \n",
    "    for autor in listautoresFinal :\n",
    "        camino2='//artista[@id=\"'+ autor + '\"]/nombre/text()'\n",
    "        nombres = biblioteca.xpath(camino2)[0]\n",
    "        print(\"*\"+nombres)\n",
    "     \n",
    "    pause()"
   ]
  },
  {
   "cell_type": "markdown",
   "metadata": {},
   "source": [
    "### OBTENER UN LISTADO DE CANCIONES CON SUS AUTORES Y DURACIÓN"
   ]
  },
  {
   "cell_type": "code",
   "execution_count": 145,
   "metadata": {},
   "outputs": [],
   "source": [
    "def obternerInfoAutores(ply, nombre):\n",
    "    canciones2= playlist.xpath(ply)\n",
    "    totalCanciones=len(canciones2)\n",
    "   \n",
    "    #creo un nuevo fichero sólo con las canciones que quiero de la playlist seleccionada y lo relleno\n",
    "    page = etree.Element(\"playlists\")\n",
    "    doc = etree.ElementTree(page)\n",
    "    page.append(etree.Element(\"playlist\"))\n",
    "    page[0].attrib[\"nombre\"]=nombre\n",
    "    for i in range(0, totalCanciones):\n",
    "        page[0].append(etree.SubElement(page[0], \"cancion\"))\n",
    "    contador=0\n",
    "    for cancion2 in canciones2:\n",
    "        page[0][contador].text = cancion2\n",
    "        contador= contador+1\n",
    "    #Lo grabo\n",
    "    outFile = open('playlist2.xml','w')\n",
    "    ficherito = etree.tostring(doc, pretty_print=True, xml_declaration=True, encoding=\"utf-8\").decode()\n",
    "    outFile.write(ficherito)  \n",
    "    outFile.close()\n",
    "    \n",
    "    #Le aplico un xsl con el que saco la info\n",
    "    ply2 = etree.parse('playlist2.xml')\n",
    "    ply2_xsl = etree.parse('playlist2.xsl')\n",
    "    transform = etree.XSLT(ply2_xsl)\n",
    "    resultado = transform(ply2)\n",
    "    print(str(resultado))\n",
    "    pause()"
   ]
  },
  {
   "cell_type": "markdown",
   "metadata": {},
   "source": [
    "### OBTENER NUMERO DE CANCIONES"
   ]
  },
  {
   "cell_type": "code",
   "execution_count": 146,
   "metadata": {},
   "outputs": [],
   "source": [
    "def obtenerNumCanciones(ply):   \n",
    "    canciones3 = playlist.xpath(ply)\n",
    "    NumCanciones = len(canciones3)\n",
    "    print(\"El numero de canciones en la lista \"+ str(NumCanciones))\n",
    "    pause()"
   ]
  },
  {
   "cell_type": "markdown",
   "metadata": {},
   "source": [
    "### ESCUCHAR CANCION"
   ]
  },
  {
   "cell_type": "code",
   "execution_count": 147,
   "metadata": {},
   "outputs": [],
   "source": [
    "def escucharCancion():\n",
    "    #Mostramos las canciones disponibles\n",
    "    mostrarTodasLasCanciones()\n",
    "   \n",
    "    #le pedimos que nos meta el codigo de la cancion\n",
    "    cancRepr = input(\"Introduzca el codigo de la cancion a reproducir\")\n",
    "    \n",
    "    #Creamos media cadena para el xpath y metemos en xpath\n",
    "    mitadCadena ='//cancion [@id=\"'+ cancRepr\n",
    "    otraMitad= '//album[cancion/@id=\"'+ cancRepr\n",
    "    #creamos un nuevo xml que traduciremos con un xsl para crear el reproductor\n",
    "    canc = etree.Element(\"cancion\")\n",
    "    doc1 = etree.ElementTree(canc)\n",
    "    canc.append(etree.SubElement(canc, \"nombre\"))\n",
    "   \n",
    "    nombre = biblioteca.xpath(mitadCadena +'\"]/titulo/text()')\n",
    "    canc[0].text=nombre[0]\n",
    "    canc.append(etree.SubElement(canc, \"album\"))\n",
    "    Album = biblioteca.xpath(otraMitad +'\"]/titulo/text()')\n",
    "    canc[1].text = Album[0]\n",
    "    canc.append(etree.SubElement(canc, \"duracion\"))\n",
    "    Duracion = biblioteca.xpath(mitadCadena + '\"]/@duracion')\n",
    "    canc[2].text = Duracion[0]\n",
    "   \n",
    "    #Lo grabamos en el fichero reproductor\n",
    "    outFile3 = open('reproductor.xml','w')\n",
    "    ficherito3 = etree.tostring(doc1, pretty_print=True, xml_declaration=True, encoding=\"utf-8\").decode()\n",
    "    outFile3.write(ficherito3)  \n",
    "    outFile3.close()\n",
    "    \n",
    "    #Lo transformamos con el xsl y mostramos el resultado en el navegador\n",
    "    cancioncilla= etree.parse('reproductor.xml')\n",
    "    cancioncilla_xsl = etree.parse('reproductor.xsl')\n",
    "    transform4 = etree.XSLT(cancioncilla_xsl)\n",
    "    resultado4 = transform4(cancioncilla) \n",
    "    f = open('reproductor.html','w')\n",
    "    f.write(str(resultado4))\n",
    "    f.close()\n",
    "    webbrowser.open_new_tab('reproductor.html')"
   ]
  },
  {
   "cell_type": "markdown",
   "metadata": {},
   "source": [
    "### MENÚ PRINCIPAL DE TODO"
   ]
  },
  {
   "cell_type": "code",
   "execution_count": 148,
   "metadata": {},
   "outputs": [
    {
     "name": "stdout",
     "output_type": "stream",
     "text": [
      " \n",
      "       Bienvenido a nuestro reproductor Olalla's media player.\n",
      "       aquí podrá, a partir de nuestra biblioteca crear sus propias listas de reproducción\n",
      "       o utilizar una prehecha,\n",
      "       ¿Qué desea hacer?\n",
      "        1. Crear mi propia lista de reproducción\n",
      "        2. Consultar listas existentes\n",
      "        3. Escuchar una canción\n",
      "        4. Salir\n",
      "        \n",
      "Seleccionar opcion [1-4]4\n",
      "Adios\n"
     ]
    }
   ],
   "source": [
    "while True:\n",
    "\n",
    "    # Mostramos el menu\n",
    "    menu()\n",
    "    \n",
    "    # Introducir opción\n",
    "    opcionMenu = int(input(\"Seleccionar opcion [1-4]\"))\n",
    "\n",
    "    if opcionMenu == 1:\n",
    "        crearListaDeReproduccion()\n",
    "    elif opcionMenu == 2:\n",
    "        consultarListaExistentes()\n",
    "    elif opcionMenu == 3:\n",
    "        escucharCancion()\n",
    "    elif opcionMenu == 4:\n",
    "        print('Adios')\n",
    "        break\n",
    "    else:\n",
    "        print(\"Opcion incorrecta\")\n",
    "        pause()"
   ]
  },
  {
   "cell_type": "code",
   "execution_count": null,
   "metadata": {},
   "outputs": [],
   "source": []
  },
  {
   "cell_type": "code",
   "execution_count": null,
   "metadata": {},
   "outputs": [],
   "source": []
  }
 ],
 "metadata": {
  "kernelspec": {
   "display_name": "Python 3",
   "language": "python",
   "name": "python3"
  },
  "language_info": {
   "codemirror_mode": {
    "name": "ipython",
    "version": 3
   },
   "file_extension": ".py",
   "mimetype": "text/x-python",
   "name": "python",
   "nbconvert_exporter": "python",
   "pygments_lexer": "ipython3",
   "version": "3.7.0"
  }
 },
 "nbformat": 4,
 "nbformat_minor": 2
}
